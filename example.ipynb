{
 "cells": [
  {
   "cell_type": "code",
   "execution_count": 1,
   "metadata": {},
   "outputs": [
    {
     "name": "stderr",
     "output_type": "stream",
     "text": [
      "/home/jenci/.local/lib/python3.10/site-packages/cudf/utils/_numba.py:17: UserWarning: CUDA Toolkit is newer than CUDA driver. Numba features will not work in this configuration. \n",
      "  warnings.warn(\n"
     ]
    }
   ],
   "source": [
    "from datetime import datetime\n",
    "from starstream.utils import DataDownloading"
   ]
  },
  {
   "cell_type": "code",
   "execution_count": 2,
   "metadata": {},
   "outputs": [],
   "source": [
    "# Defining default values for tests\n",
    "scrap_date_list = [\n",
    "    (datetime(2017, 10, 3), datetime(2017, 10, 15)),\n",
    "    (datetime(2018, 10, 3), datetime(2018, 3, 15))\n",
    "    ]"
   ]
  },
  {
   "cell_type": "markdown",
   "metadata": {},
   "source": [
    "# ACE | Advanced Composite Explorer\n",
    "<img src=\"https://upload.wikimedia.org/wikipedia/commons/9/9b/ACE_mission_logo.png\" height=200 width=200>\n"
   ]
  },
  {
   "cell_type": "code",
   "execution_count": null,
   "metadata": {},
   "outputs": [],
   "source": [
    "from starstream import ACE\n",
    "\n",
    "await DataDownloading(\n",
    "    [ACE.MAG(), ACE.SWEPAM(), ACE.SIS(), ACE.EPAM(), ACE.SWICS()],\n",
    "    scrap_date_list\n",
    ")"
   ]
  },
  {
   "cell_type": "markdown",
   "metadata": {},
   "source": [
    "# DSCOVR | Deep Space Climate Observatory\n",
    "<img src=\"https://www.nesdis.noaa.gov/s3/styles/webp/s3/migrated/DSCOVR-Logo_NOAA_NASA_USAF.png.webp?itok=EGpby_uX\" height=200 width=350>"
   ]
  },
  {
   "cell_type": "code",
   "execution_count": null,
   "metadata": {},
   "outputs": [],
   "source": [
    "from starstream import DSCOVR\n",
    "\n",
    "downloader = DataDownloading(\n",
    "    [DSCOVR],\n",
    "    scrap_date_list\n",
    ") # revisar"
   ]
  },
  {
   "cell_type": "markdown",
   "metadata": {},
   "source": [
    "# Disturbance Storm Time Index | World Data Center for Geomagnetism\n",
    "<img src=\"https://wdc.kugi.kyoto-u.ac.jp/figs/logoh.gif\" height=200 width=300>"
   ]
  },
  {
   "cell_type": "code",
   "execution_count": null,
   "metadata": {},
   "outputs": [],
   "source": [
    "from starstream import Dst\n",
    "\n",
    "await DataDownloading(\n",
    "    [Dst()],\n",
    "    scrap_date_list\n",
    ")"
   ]
  },
  {
   "cell_type": "markdown",
   "metadata": {},
   "source": [
    "# WIND\n",
    "<img src=\"https://upload.wikimedia.org/wikipedia/commons/d/d0/Windlogo.gif\" height=200 width=200>"
   ]
  },
  {
   "cell_type": "code",
   "execution_count": null,
   "metadata": {},
   "outputs": [],
   "source": [
    "from starstream import WIND\n",
    "\n",
    "await DataDownloading(\n",
    "    [WIND.SMS(), WIND.SWE_alpha_proton()],\n",
    "    scrap_date_list\n",
    ") # revisar"
   ]
  },
  {
   "cell_type": "markdown",
   "metadata": {},
   "source": [
    "# Hinode\n",
    "<img src=\"https://upload.wikimedia.org/wikipedia/commons/thumb/8/85/Jaxa_logo.svg/1024px-Jaxa_logo.svg.png\" height=200 width=400>"
   ]
  },
  {
   "cell_type": "code",
   "execution_count": 3,
   "metadata": {},
   "outputs": [
    {
     "ename": "TypeError",
     "evalue": "strptime() argument 1 must be str, not datetime.datetime",
     "output_type": "error",
     "traceback": [
      "\u001b[0;31m---------------------------------------------------------------------------\u001b[0m",
      "\u001b[0;31mTypeError\u001b[0m                                 Traceback (most recent call last)",
      "Cell \u001b[0;32mIn[3], line 3\u001b[0m\n\u001b[1;32m      1\u001b[0m \u001b[38;5;28;01mfrom\u001b[39;00m \u001b[38;5;21;01mstarstream\u001b[39;00m \u001b[38;5;28;01mimport\u001b[39;00m Hinode\n\u001b[0;32m----> 3\u001b[0m \u001b[38;5;28;01mawait\u001b[39;00m DataDownloading(\n\u001b[1;32m      4\u001b[0m     [Hinode\u001b[38;5;241m.\u001b[39mXRT()],\n\u001b[1;32m      5\u001b[0m     scrap_date_list\n\u001b[1;32m      6\u001b[0m )\n",
      "File \u001b[0;32m~/Desktop/StarStream/starstream/utils.py:190\u001b[0m, in \u001b[0;36mDataDownloading\u001b[0;34m(sat_objs, scrap_date_list)\u001b[0m\n\u001b[1;32m    188\u001b[0m \u001b[38;5;28;01mfor\u001b[39;00m scrap_date \u001b[38;5;129;01min\u001b[39;00m scrap_date_list:\n\u001b[1;32m    189\u001b[0m     \u001b[38;5;28;01masync\u001b[39;00m \u001b[38;5;28;01mwith\u001b[39;00m aiohttp\u001b[38;5;241m.\u001b[39mClientSession() \u001b[38;5;28;01mas\u001b[39;00m session:\n\u001b[0;32m--> 190\u001b[0m         \u001b[38;5;28;01mawait\u001b[39;00m asyncio\u001b[38;5;241m.\u001b[39mgather(\n\u001b[1;32m    191\u001b[0m             \u001b[38;5;241m*\u001b[39m[\n\u001b[1;32m    192\u001b[0m                 sat_obj\u001b[38;5;241m.\u001b[39mdownloader_pipeline(scrap_date, session)\n\u001b[1;32m    193\u001b[0m                 \u001b[38;5;28;01mfor\u001b[39;00m sat_obj \u001b[38;5;129;01min\u001b[39;00m sat_objs\n\u001b[1;32m    194\u001b[0m             ]\n\u001b[1;32m    195\u001b[0m         )\n",
      "File \u001b[0;32m~/Desktop/StarStream/starstream/Hinode.py:80\u001b[0m, in \u001b[0;36mHinode.XRT.downloader_pipeline\u001b[0;34m(self, scrap_date, session)\u001b[0m\n\u001b[1;32m     79\u001b[0m \u001b[38;5;28;01masync\u001b[39;00m \u001b[38;5;28;01mdef\u001b[39;00m \u001b[38;5;21mdownloader_pipeline\u001b[39m(\u001b[38;5;28mself\u001b[39m, scrap_date, session):\n\u001b[0;32m---> 80\u001b[0m     \u001b[38;5;28;01mawait\u001b[39;00m asyncio\u001b[38;5;241m.\u001b[39mgather(\u001b[38;5;241m*\u001b[39m\u001b[38;5;28;43mself\u001b[39;49m\u001b[38;5;241;43m.\u001b[39;49m\u001b[43mget_check_tasks\u001b[49m\u001b[43m(\u001b[49m\u001b[43mscrap_date\u001b[49m\u001b[43m)\u001b[49m)\n\u001b[1;32m     81\u001b[0m     \u001b[38;5;28;01mawait\u001b[39;00m asyncio\u001b[38;5;241m.\u001b[39mgather(\u001b[38;5;241m*\u001b[39m\u001b[38;5;28mself\u001b[39m\u001b[38;5;241m.\u001b[39mget_download_tasks(session))\n",
      "File \u001b[0;32m~/Desktop/StarStream/starstream/Hinode.py:24\u001b[0m, in \u001b[0;36mHinode.XRT.get_check_tasks\u001b[0;34m(self, scrap_date)\u001b[0m\n\u001b[1;32m     23\u001b[0m \u001b[38;5;28;01mdef\u001b[39;00m \u001b[38;5;21mget_check_tasks\u001b[39m(\u001b[38;5;28mself\u001b[39m, scrap_date):\n\u001b[0;32m---> 24\u001b[0m     scrap_date \u001b[38;5;241m=\u001b[39m \u001b[43minterval_time\u001b[49m\u001b[43m(\u001b[49m\n\u001b[1;32m     25\u001b[0m \u001b[43m        \u001b[49m\u001b[43mscrap_date\u001b[49m\u001b[43m[\u001b[49m\u001b[38;5;241;43m0\u001b[39;49m\u001b[43m]\u001b[49m\u001b[43m,\u001b[49m\n\u001b[1;32m     26\u001b[0m \u001b[43m        \u001b[49m\u001b[43mscrap_date\u001b[49m\u001b[43m[\u001b[49m\u001b[38;5;241;43m-\u001b[39;49m\u001b[38;5;241;43m1\u001b[39;49m\u001b[43m]\u001b[49m\u001b[43m,\u001b[49m\n\u001b[1;32m     27\u001b[0m \u001b[43m        \u001b[49m\u001b[43mstep_size\u001b[49m\u001b[38;5;241;43m=\u001b[39;49m\u001b[43mtimedelta\u001b[49m\u001b[43m(\u001b[49m\u001b[43mhours\u001b[49m\u001b[38;5;241;43m=\u001b[39;49m\u001b[38;5;241;43m1\u001b[39;49m\u001b[43m)\u001b[49m\u001b[43m,\u001b[49m\n\u001b[1;32m     28\u001b[0m \u001b[43m        \u001b[49m\u001b[43moutput_format\u001b[49m\u001b[38;5;241;43m=\u001b[39;49m\u001b[38;5;124;43m\"\u001b[39;49m\u001b[38;5;124;43m%\u001b[39;49m\u001b[38;5;124;43mY\u001b[39;49m\u001b[38;5;124;43m%\u001b[39;49m\u001b[38;5;124;43mm\u001b[39;49m\u001b[38;5;132;43;01m%d\u001b[39;49;00m\u001b[38;5;124;43m-\u001b[39;49m\u001b[38;5;124;43m%\u001b[39;49m\u001b[38;5;124;43mH\u001b[39;49m\u001b[38;5;124;43m%\u001b[39;49m\u001b[38;5;124;43mM\u001b[39;49m\u001b[38;5;124;43m%\u001b[39;49m\u001b[38;5;124;43mS\u001b[39;49m\u001b[38;5;124;43m\"\u001b[39;49m\u001b[43m,\u001b[49m\n\u001b[1;32m     29\u001b[0m \u001b[43m    \u001b[49m\u001b[43m)\u001b[49m\n\u001b[1;32m     30\u001b[0m     \u001b[38;5;28mself\u001b[39m\u001b[38;5;241m.\u001b[39mnew_scrap_date_list \u001b[38;5;241m=\u001b[39m [\n\u001b[1;32m     31\u001b[0m         date\n\u001b[1;32m     32\u001b[0m         \u001b[38;5;28;01mfor\u001b[39;00m date \u001b[38;5;129;01min\u001b[39;00m scrap_date\n\u001b[1;32m     33\u001b[0m         \u001b[38;5;28;01mif\u001b[39;00m \u001b[38;5;129;01mnot\u001b[39;00m os\u001b[38;5;241m.\u001b[39mpath\u001b[38;5;241m.\u001b[39mexists(\u001b[38;5;28mself\u001b[39m\u001b[38;5;241m.\u001b[39mxrt_npy_path(date))\n\u001b[1;32m     34\u001b[0m     ]\n",
      "File \u001b[0;32m~/Desktop/StarStream/starstream/utils.py:149\u001b[0m, in \u001b[0;36minterval_time\u001b[0;34m(start_date_str, end_date_str, format, step_size, output_format)\u001b[0m\n\u001b[1;32m    146\u001b[0m \u001b[38;5;28;01mif\u001b[39;00m output_format \u001b[38;5;129;01mis\u001b[39;00m \u001b[38;5;28;01mNone\u001b[39;00m:\n\u001b[1;32m    147\u001b[0m     output_format \u001b[38;5;241m=\u001b[39m \u001b[38;5;28mformat\u001b[39m\n\u001b[0;32m--> 149\u001b[0m start_date \u001b[38;5;241m=\u001b[39m \u001b[43mdatetime\u001b[49m\u001b[38;5;241;43m.\u001b[39;49m\u001b[43mstrptime\u001b[49m\u001b[43m(\u001b[49m\u001b[43mstart_date_str\u001b[49m\u001b[43m,\u001b[49m\u001b[43m \u001b[49m\u001b[38;5;28;43mformat\u001b[39;49m\u001b[43m)\u001b[49m\n\u001b[1;32m    150\u001b[0m end_date \u001b[38;5;241m=\u001b[39m datetime\u001b[38;5;241m.\u001b[39mstrptime(end_date_str, \u001b[38;5;28mformat\u001b[39m)\n\u001b[1;32m    152\u001b[0m current_date \u001b[38;5;241m=\u001b[39m start_date\n",
      "\u001b[0;31mTypeError\u001b[0m: strptime() argument 1 must be str, not datetime.datetime"
     ]
    }
   ],
   "source": [
    "from starstream import Hinode\n",
    "\n",
    "await DataDownloading(\n",
    "    [Hinode.XRT()],\n",
    "    scrap_date_list\n",
    ")"
   ]
  },
  {
   "cell_type": "code",
   "execution_count": null,
   "metadata": {},
   "outputs": [],
   "source": []
  }
 ],
 "metadata": {
  "kernelspec": {
   "display_name": "Python 3",
   "language": "python",
   "name": "python3"
  },
  "language_info": {
   "codemirror_mode": {
    "name": "ipython",
    "version": 3
   },
   "file_extension": ".py",
   "mimetype": "text/x-python",
   "name": "python",
   "nbconvert_exporter": "python",
   "pygments_lexer": "ipython3",
   "version": "3.10.12"
  }
 },
 "nbformat": 4,
 "nbformat_minor": 2
}
