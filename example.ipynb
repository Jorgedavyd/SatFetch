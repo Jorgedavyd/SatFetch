{
 "cells": [
  {
   "cell_type": "code",
   "execution_count": 1,
   "metadata": {},
   "outputs": [
    {
     "name": "stderr",
     "output_type": "stream",
     "text": [
      "/home/jenci/.local/lib/python3.10/site-packages/cudf/utils/_numba.py:17: UserWarning: CUDA Toolkit is newer than CUDA driver. Numba features will not work in this configuration. \n",
      "  warnings.warn(\n"
     ]
    }
   ],
   "source": [
    "from datetime import datetime\n",
    "from starstream.utils import DataDownloading"
   ]
  },
  {
   "cell_type": "code",
   "execution_count": 2,
   "metadata": {},
   "outputs": [],
   "source": [
    "# Defining default values for tests\n",
    "scrap_date_list = [\n",
    "    (datetime(2017, 10, 3), datetime(2017, 10, 15)),\n",
    "    (datetime(2018, 10, 3), datetime(2018, 3, 15))\n",
    "    ]"
   ]
  },
  {
   "cell_type": "markdown",
   "metadata": {},
   "source": [
    "# ACE | Advanced Composite Explorer\n",
    "<img src=\"https://upload.wikimedia.org/wikipedia/commons/9/9b/ACE_mission_logo.png\" height=200 width=200>\n"
   ]
  },
  {
   "cell_type": "code",
   "execution_count": 3,
   "metadata": {},
   "outputs": [],
   "source": [
    "from starstream import ACE\n",
    "\n",
    "await DataDownloading(\n",
    "    [ACE.MAG(), ACE.SWEPAM(), ACE.SIS(), ACE.EPAM(), ACE.SWICS()],\n",
    "    scrap_date_list\n",
    ")"
   ]
  },
  {
   "cell_type": "markdown",
   "metadata": {},
   "source": [
    "# DSCOVR | Deep Space Climate Observatory\n",
    "<img src=\"https://www.nesdis.noaa.gov/s3/styles/webp/s3/migrated/DSCOVR-Logo_NOAA_NASA_USAF.png.webp?itok=EGpby_uX\" height=200 width=350>"
   ]
  },
  {
   "cell_type": "code",
   "execution_count": 5,
   "metadata": {},
   "outputs": [
    {
     "name": "stdout",
     "output_type": "stream",
     "text": [
      "Already downloaded\n",
      "Already downloaded\n"
     ]
    }
   ],
   "source": [
    "from starstream import DSCOVR\n",
    "\n",
    "await DataDownloading(\n",
    "    DSCOVR(),\n",
    "    scrap_date_list\n",
    ") "
   ]
  },
  {
   "cell_type": "markdown",
   "metadata": {},
   "source": [
    "# Disturbance Storm Time Index | World Data Center for Geomagnetism\n",
    "<img src=\"https://wdc.kugi.kyoto-u.ac.jp/figs/logoh.gif\" height=200 width=300>"
   ]
  },
  {
   "cell_type": "code",
   "execution_count": 6,
   "metadata": {},
   "outputs": [],
   "source": [
    "from starstream import Dst\n",
    "\n",
    "await DataDownloading(\n",
    "    Dst(),\n",
    "    scrap_date_list\n",
    ")"
   ]
  },
  {
   "cell_type": "markdown",
   "metadata": {},
   "source": [
    "# WIND\n",
    "<img src=\"https://upload.wikimedia.org/wikipedia/commons/d/d0/Windlogo.gif\" height=200 width=200>"
   ]
  },
  {
   "cell_type": "code",
   "execution_count": 3,
   "metadata": {},
   "outputs": [],
   "source": [
    "from starstream import WIND\n",
    "\n",
    "await DataDownloading(\n",
    "    [WIND.SMS()],\n",
    "    scrap_date_list\n",
    ") "
   ]
  },
  {
   "cell_type": "markdown",
   "metadata": {},
   "source": [
    "# Hinode\n",
    "<img src=\"https://upload.wikimedia.org/wikipedia/commons/thumb/8/85/Jaxa_logo.svg/1024px-Jaxa_logo.svg.png\" height=200 width=400>"
   ]
  },
  {
   "cell_type": "code",
   "execution_count": 4,
   "metadata": {},
   "outputs": [
    {
     "ename": "CancelledError",
     "evalue": "",
     "output_type": "error",
     "traceback": [
      "\u001b[0;31m---------------------------------------------------------------------------\u001b[0m",
      "\u001b[0;31mCancelledError\u001b[0m                            Traceback (most recent call last)",
      "File \u001b[0;32m~/Desktop/StarStream/starstream/Hinode.py:56\u001b[0m, in \u001b[0;36mHinode.XRT.download_url\u001b[0;34m(self, session, url)\u001b[0m\n\u001b[1;32m     55\u001b[0m \u001b[38;5;28;01masync\u001b[39;00m \u001b[38;5;28;01mwith\u001b[39;00m session\u001b[38;5;241m.\u001b[39mget(url, ssl\u001b[38;5;241m=\u001b[39m\u001b[38;5;28;01mFalse\u001b[39;00m) \u001b[38;5;28;01mas\u001b[39;00m response:\n\u001b[0;32m---> 56\u001b[0m     data \u001b[38;5;241m=\u001b[39m \u001b[38;5;28;01mawait\u001b[39;00m response\u001b[38;5;241m.\u001b[39mread()\n\u001b[1;32m     57\u001b[0m     \u001b[38;5;28;01mif\u001b[39;00m \u001b[38;5;28mself\u001b[39m\u001b[38;5;241m.\u001b[39mfiletype \u001b[38;5;241m!=\u001b[39m \u001b[38;5;124m'\u001b[39m\u001b[38;5;124mfits\u001b[39m\u001b[38;5;124m'\u001b[39m:\n",
      "File \u001b[0;32m~/.local/lib/python3.10/site-packages/aiohttp/client_reqrep.py:1100\u001b[0m, in \u001b[0;36mClientResponse.read\u001b[0;34m(self)\u001b[0m\n\u001b[1;32m   1099\u001b[0m \u001b[38;5;28;01mtry\u001b[39;00m:\n\u001b[0;32m-> 1100\u001b[0m     \u001b[38;5;28mself\u001b[39m\u001b[38;5;241m.\u001b[39m_body \u001b[38;5;241m=\u001b[39m \u001b[38;5;28;01mawait\u001b[39;00m \u001b[38;5;28mself\u001b[39m\u001b[38;5;241m.\u001b[39mcontent\u001b[38;5;241m.\u001b[39mread()\n\u001b[1;32m   1101\u001b[0m     \u001b[38;5;28;01mfor\u001b[39;00m trace \u001b[38;5;129;01min\u001b[39;00m \u001b[38;5;28mself\u001b[39m\u001b[38;5;241m.\u001b[39m_traces:\n",
      "File \u001b[0;32m~/.local/lib/python3.10/site-packages/aiohttp/streams.py:373\u001b[0m, in \u001b[0;36mStreamReader.read\u001b[0;34m(self, n)\u001b[0m\n\u001b[1;32m    372\u001b[0m \u001b[38;5;28;01mwhile\u001b[39;00m \u001b[38;5;28;01mTrue\u001b[39;00m:\n\u001b[0;32m--> 373\u001b[0m     block \u001b[38;5;241m=\u001b[39m \u001b[38;5;28;01mawait\u001b[39;00m \u001b[38;5;28mself\u001b[39m\u001b[38;5;241m.\u001b[39mreadany()\n\u001b[1;32m    374\u001b[0m     \u001b[38;5;28;01mif\u001b[39;00m \u001b[38;5;129;01mnot\u001b[39;00m block:\n",
      "File \u001b[0;32m~/.local/lib/python3.10/site-packages/aiohttp/streams.py:395\u001b[0m, in \u001b[0;36mStreamReader.readany\u001b[0;34m(self)\u001b[0m\n\u001b[1;32m    394\u001b[0m \u001b[38;5;28;01mwhile\u001b[39;00m \u001b[38;5;129;01mnot\u001b[39;00m \u001b[38;5;28mself\u001b[39m\u001b[38;5;241m.\u001b[39m_buffer \u001b[38;5;129;01mand\u001b[39;00m \u001b[38;5;129;01mnot\u001b[39;00m \u001b[38;5;28mself\u001b[39m\u001b[38;5;241m.\u001b[39m_eof:\n\u001b[0;32m--> 395\u001b[0m     \u001b[38;5;28;01mawait\u001b[39;00m \u001b[38;5;28mself\u001b[39m\u001b[38;5;241m.\u001b[39m_wait(\u001b[38;5;124m\"\u001b[39m\u001b[38;5;124mreadany\u001b[39m\u001b[38;5;124m\"\u001b[39m)\n\u001b[1;32m    397\u001b[0m \u001b[38;5;28;01mreturn\u001b[39;00m \u001b[38;5;28mself\u001b[39m\u001b[38;5;241m.\u001b[39m_read_nowait(\u001b[38;5;241m-\u001b[39m\u001b[38;5;241m1\u001b[39m)\n",
      "File \u001b[0;32m~/.local/lib/python3.10/site-packages/aiohttp/streams.py:302\u001b[0m, in \u001b[0;36mStreamReader._wait\u001b[0;34m(self, func_name)\u001b[0m\n\u001b[1;32m    301\u001b[0m     \u001b[38;5;28;01mwith\u001b[39;00m \u001b[38;5;28mself\u001b[39m\u001b[38;5;241m.\u001b[39m_timer:\n\u001b[0;32m--> 302\u001b[0m         \u001b[38;5;28;01mawait\u001b[39;00m waiter\n\u001b[1;32m    303\u001b[0m \u001b[38;5;28;01mfinally\u001b[39;00m:\n",
      "\u001b[0;31mCancelledError\u001b[0m: ",
      "\nDuring handling of the above exception, another exception occurred:\n",
      "\u001b[0;31mCancelledError\u001b[0m                            Traceback (most recent call last)",
      "\u001b[0;31mCancelledError\u001b[0m: ",
      "\nDuring handling of the above exception, another exception occurred:\n",
      "\u001b[0;31mCancelledError\u001b[0m                            Traceback (most recent call last)",
      "Cell \u001b[0;32mIn[4], line 3\u001b[0m\n\u001b[1;32m      1\u001b[0m \u001b[38;5;28;01mfrom\u001b[39;00m \u001b[38;5;21;01mstarstream\u001b[39;00m \u001b[38;5;28;01mimport\u001b[39;00m Hinode\n\u001b[0;32m----> 3\u001b[0m \u001b[38;5;28;01mawait\u001b[39;00m DataDownloading(\n\u001b[1;32m      4\u001b[0m     Hinode\u001b[38;5;241m.\u001b[39mXRT(\u001b[38;5;124m'\u001b[39m\u001b[38;5;124mfits\u001b[39m\u001b[38;5;124m'\u001b[39m),\n\u001b[1;32m      5\u001b[0m     scrap_date_list\n\u001b[1;32m      6\u001b[0m )\n",
      "File \u001b[0;32m~/Desktop/StarStream/starstream/utils.py:214\u001b[0m, in \u001b[0;36mDataDownloading\u001b[0;34m(sat_objs, scrap_date)\u001b[0m\n\u001b[1;32m    212\u001b[0m \u001b[38;5;28;01mfor\u001b[39;00m date \u001b[38;5;129;01min\u001b[39;00m scrap_date:\n\u001b[1;32m    213\u001b[0m     \u001b[38;5;28;01masync\u001b[39;00m \u001b[38;5;28;01mwith\u001b[39;00m aiohttp\u001b[38;5;241m.\u001b[39mClientSession() \u001b[38;5;28;01mas\u001b[39;00m session:\n\u001b[0;32m--> 214\u001b[0m         \u001b[38;5;28;01mawait\u001b[39;00m sat_objs\u001b[38;5;241m.\u001b[39mdownloader_pipeline(date, session)\n",
      "File \u001b[0;32m~/Desktop/StarStream/starstream/Hinode.py:72\u001b[0m, in \u001b[0;36mHinode.XRT.downloader_pipeline\u001b[0;34m(self, scrap_date, session)\u001b[0m\n\u001b[1;32m     70\u001b[0m scrap_tasks \u001b[38;5;241m=\u001b[39m \u001b[38;5;28mself\u001b[39m\u001b[38;5;241m.\u001b[39mget_scrap_tasks(session)\n\u001b[1;32m     71\u001b[0m \u001b[38;5;28;01mfor\u001b[39;00m i \u001b[38;5;129;01min\u001b[39;00m \u001b[38;5;28mrange\u001b[39m(\u001b[38;5;241m0\u001b[39m, \u001b[38;5;28mlen\u001b[39m(scrap_tasks), \u001b[38;5;28mself\u001b[39m\u001b[38;5;241m.\u001b[39mbatch_size):\n\u001b[0;32m---> 72\u001b[0m     \u001b[38;5;28;01mawait\u001b[39;00m asyncio\u001b[38;5;241m.\u001b[39mgather(\u001b[38;5;241m*\u001b[39mscrap_tasks[i:i \u001b[38;5;241m+\u001b[39m \u001b[38;5;28mself\u001b[39m\u001b[38;5;241m.\u001b[39mbatch_size])\n",
      "\u001b[0;31mCancelledError\u001b[0m: "
     ]
    }
   ],
   "source": [
    "from starstream import Hinode\n",
    "\n",
    "await DataDownloading(\n",
    "    Hinode.XRT('fits'),\n",
    "    scrap_date_list\n",
    ")"
   ]
  },
  {
   "cell_type": "markdown",
   "metadata": {},
   "source": [
    "# OMNI\n",
    "<img src='https://upload.wikimedia.org/wikipedia/commons/thumb/e/e5/NASA_logo.svg/1224px-NASA_logo.svg.png' height = 200 width = 250>"
   ]
  },
  {
   "cell_type": "code",
   "execution_count": 3,
   "metadata": {},
   "outputs": [],
   "source": [
    "from starstream import OMNI\n",
    "\n",
    "await DataDownloading(\n",
    "    OMNI(),\n",
    "    scrap_date_list\n",
    ")"
   ]
  },
  {
   "cell_type": "markdown",
   "metadata": {},
   "source": [
    "# SOHO\n",
    "<img src=\"https://lh3.googleusercontent.com/proxy/CuvQ0w53zAeiZ3s1NT1ijGN6Lz801QNO6toQw2ZzwE-3_FTi7bZkin0Q0mzhisLX0Q1_0ftGyYvR4HIxstI5TIJ9rrp6KfFUz47jWfZD\" height = 200 width = 200>"
   ]
  },
  {
   "cell_type": "code",
   "execution_count": 4,
   "metadata": {},
   "outputs": [],
   "source": [
    "from starstream import SOHO\n",
    "\n",
    "await DataDownloading(\n",
    "    SOHO.CELIAS_PM(),\n",
    "    scrap_date_list\n",
    ")"
   ]
  },
  {
   "cell_type": "markdown",
   "metadata": {},
   "source": [
    "# Solar Dynamics Observatory | SDO\n",
    "<img src=\"https://3.bp.blogspot.com/-YdNujMhGAkI/WeIyjnfiN8I/AAAAAAABAII/JDV2MvutF_kNJ9ManBMmTM-0X4G6m3KiACLcBGAs/s1600/logo_sdo.gif\" height = 200 width = 200>"
   ]
  },
  {
   "cell_type": "code",
   "execution_count": 3,
   "metadata": {},
   "outputs": [
    {
     "name": "stderr",
     "output_type": "stream",
     "text": [
      "Getting file names...: 100%|██████████| 2/2 [00:16<00:00,  8.34s/it]\n",
      "Getting images...: 100%|██████████| 514/514 [03:42<00:00,  2.31it/s]\n",
      "Getting file names...: 0it [00:00, ?it/s]\n",
      "Getting images...: 0it [00:00, ?it/s]\n"
     ]
    }
   ],
   "source": [
    "from starstream import SDO\n",
    "from datetime import timedelta\n",
    "\n",
    "await DataDownloading(\n",
    "    SDO.AIA_HR(timedelta(minutes = 4), '171'),\n",
    "    scrap_date_list\n",
    ")"
   ]
  },
  {
   "cell_type": "markdown",
   "metadata": {},
   "source": [
    "# SWARM\n",
    "<img src=\"https://earth.esa.int/eogateway/documents/20142/0/swarm.png/656b6a23-f035-f7e3-78c6-02a47d1a4b6e?t=1608141199732\" height = 120 width = 400>"
   ]
  },
  {
   "cell_type": "code",
   "execution_count": 3,
   "metadata": {},
   "outputs": [],
   "source": [
    "from starstream import SWARM\n",
    "\n",
    "await DataDownloading(\n",
    "    SWARM.MAG(),\n",
    "    scrap_date_list\n",
    ")"
   ]
  },
  {
   "cell_type": "markdown",
   "metadata": {},
   "source": [
    "# PROBA_2\n",
    "<img src=\"http://esdcdoi.esac.esa.int/doi/html/img/Proba2_logo2020.svg\" height = 200 width = 200>"
   ]
  },
  {
   "cell_type": "code",
   "execution_count": null,
   "metadata": {},
   "outputs": [],
   "source": [
    "from starstream import PROBA_2\n",
    "\n",
    "await DataDownloading(\n",
    "    PROBA_2.LYRA(timedelta(minutes = 5)),\n",
    "    scrap_date_list\n",
    ")"
   ]
  }
 ],
 "metadata": {
  "kernelspec": {
   "display_name": "Python 3",
   "language": "python",
   "name": "python3"
  },
  "language_info": {
   "codemirror_mode": {
    "name": "ipython",
    "version": 3
   },
   "file_extension": ".py",
   "mimetype": "text/x-python",
   "name": "python",
   "nbconvert_exporter": "python",
   "pygments_lexer": "ipython3",
   "version": "3.10.12"
  }
 },
 "nbformat": 4,
 "nbformat_minor": 2
}
